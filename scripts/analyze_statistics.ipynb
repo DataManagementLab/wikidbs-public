{
 "cells": [
  {
   "cell_type": "code",
   "id": "initial_id",
   "metadata": {
    "collapsed": true,
    "ExecuteTime": {
     "end_time": "2024-10-30T13:47:23.094811Z",
     "start_time": "2024-10-30T13:47:23.091865Z"
    }
   },
   "source": [
    "import json\n",
    "import pathlib\n",
    "import collections\n",
    "\n",
    "import pandas as pd\n",
    "from matplotlib import pyplot as plt\n",
    "\n",
    "pd.set_option(\"display.float_format\", lambda x: \"%.2f\" % x)"
   ],
   "outputs": [],
   "execution_count": 23
  },
  {
   "metadata": {
    "ExecuteTime": {
     "end_time": "2024-10-30T13:47:24.071736Z",
     "start_time": "2024-10-30T13:47:23.105212Z"
    }
   },
   "cell_type": "code",
   "source": [
    "path = pathlib.Path(\"../data/statistics.json\")\n",
    "with open(path, \"r\", encoding=\"utf-8\") as file:\n",
    "    stats = json.load(file)"
   ],
   "id": "2dd7b19a1f117239",
   "outputs": [],
   "execution_count": 24
  },
  {
   "metadata": {
    "ExecuteTime": {
     "end_time": "2024-10-30T13:47:25.091605Z",
     "start_time": "2024-10-30T13:47:24.120812Z"
    }
   },
   "cell_type": "code",
   "source": [
    "print(\"num databases:\", len(stats[\"num_tables\"]))\n",
    "ss = []\n",
    "for key in (\"num_tables\", \"num_cols\", \"num_rows\", \"sparsities\", \"num_numerical\", \"num_non_numerical\"):\n",
    "    s = pd.Series(stats[key], name=key).describe()\n",
    "    s[\"sum\"] = sum(stats[key])\n",
    "    del s[\"count\"]\n",
    "    ss.append(s)\n",
    "pd.concat(ss, axis=1)"
   ],
   "id": "9d5596276a94c6e2",
   "outputs": [
    {
     "name": "stdout",
     "output_type": "stream",
     "text": [
      "num databases: 100000\n"
     ]
    },
    {
     "data": {
      "text/plain": [
       "      num_tables    num_cols     num_rows  sparsities  num_numerical  \\\n",
       "mean       16.11       52.72       118.16        0.23          12.97   \n",
       "std        27.55       70.38      1712.89        0.11          22.90   \n",
       "min         2.00        2.00         1.00        0.00           0.00   \n",
       "25%         2.00       15.00        20.00        0.15           1.00   \n",
       "50%         3.00       24.00        41.00        0.22           4.00   \n",
       "75%         8.00       55.00        87.00        0.29          14.00   \n",
       "max       100.00      391.00    840733.00        0.95         134.00   \n",
       "sum   1610907.00 84932333.00 190339182.00   367133.43    20886236.00   \n",
       "\n",
       "      num_non_numerical  \n",
       "mean              39.76  \n",
       "std               47.96  \n",
       "min                1.00  \n",
       "25%               13.00  \n",
       "50%               20.00  \n",
       "75%               41.00  \n",
       "max              262.00  \n",
       "sum         64046097.00  "
      ],
      "text/html": [
       "<div>\n",
       "<style scoped>\n",
       "    .dataframe tbody tr th:only-of-type {\n",
       "        vertical-align: middle;\n",
       "    }\n",
       "\n",
       "    .dataframe tbody tr th {\n",
       "        vertical-align: top;\n",
       "    }\n",
       "\n",
       "    .dataframe thead th {\n",
       "        text-align: right;\n",
       "    }\n",
       "</style>\n",
       "<table border=\"1\" class=\"dataframe\">\n",
       "  <thead>\n",
       "    <tr style=\"text-align: right;\">\n",
       "      <th></th>\n",
       "      <th>num_tables</th>\n",
       "      <th>num_cols</th>\n",
       "      <th>num_rows</th>\n",
       "      <th>sparsities</th>\n",
       "      <th>num_numerical</th>\n",
       "      <th>num_non_numerical</th>\n",
       "    </tr>\n",
       "  </thead>\n",
       "  <tbody>\n",
       "    <tr>\n",
       "      <th>mean</th>\n",
       "      <td>16.11</td>\n",
       "      <td>52.72</td>\n",
       "      <td>118.16</td>\n",
       "      <td>0.23</td>\n",
       "      <td>12.97</td>\n",
       "      <td>39.76</td>\n",
       "    </tr>\n",
       "    <tr>\n",
       "      <th>std</th>\n",
       "      <td>27.55</td>\n",
       "      <td>70.38</td>\n",
       "      <td>1712.89</td>\n",
       "      <td>0.11</td>\n",
       "      <td>22.90</td>\n",
       "      <td>47.96</td>\n",
       "    </tr>\n",
       "    <tr>\n",
       "      <th>min</th>\n",
       "      <td>2.00</td>\n",
       "      <td>2.00</td>\n",
       "      <td>1.00</td>\n",
       "      <td>0.00</td>\n",
       "      <td>0.00</td>\n",
       "      <td>1.00</td>\n",
       "    </tr>\n",
       "    <tr>\n",
       "      <th>25%</th>\n",
       "      <td>2.00</td>\n",
       "      <td>15.00</td>\n",
       "      <td>20.00</td>\n",
       "      <td>0.15</td>\n",
       "      <td>1.00</td>\n",
       "      <td>13.00</td>\n",
       "    </tr>\n",
       "    <tr>\n",
       "      <th>50%</th>\n",
       "      <td>3.00</td>\n",
       "      <td>24.00</td>\n",
       "      <td>41.00</td>\n",
       "      <td>0.22</td>\n",
       "      <td>4.00</td>\n",
       "      <td>20.00</td>\n",
       "    </tr>\n",
       "    <tr>\n",
       "      <th>75%</th>\n",
       "      <td>8.00</td>\n",
       "      <td>55.00</td>\n",
       "      <td>87.00</td>\n",
       "      <td>0.29</td>\n",
       "      <td>14.00</td>\n",
       "      <td>41.00</td>\n",
       "    </tr>\n",
       "    <tr>\n",
       "      <th>max</th>\n",
       "      <td>100.00</td>\n",
       "      <td>391.00</td>\n",
       "      <td>840733.00</td>\n",
       "      <td>0.95</td>\n",
       "      <td>134.00</td>\n",
       "      <td>262.00</td>\n",
       "    </tr>\n",
       "    <tr>\n",
       "      <th>sum</th>\n",
       "      <td>1610907.00</td>\n",
       "      <td>84932333.00</td>\n",
       "      <td>190339182.00</td>\n",
       "      <td>367133.43</td>\n",
       "      <td>20886236.00</td>\n",
       "      <td>64046097.00</td>\n",
       "    </tr>\n",
       "  </tbody>\n",
       "</table>\n",
       "</div>"
      ]
     },
     "execution_count": 25,
     "metadata": {},
     "output_type": "execute_result"
    }
   ],
   "execution_count": 25
  },
  {
   "metadata": {
    "ExecuteTime": {
     "end_time": "2024-10-30T13:47:25.328756Z",
     "start_time": "2024-10-30T13:47:25.199255Z"
    }
   },
   "cell_type": "code",
   "source": [
    "print(len(list(filter(lambda x: x > 100000, stats[\"num_rows\"]))))\n",
    "print(len(list(filter(lambda x: x == 100, stats[\"num_tables\"]))))\n",
    "print(len(list(filter(lambda x: x > 100, stats[\"num_tables\"]))))\n",
    "print(len(list(filter(lambda x: x > 0.5, stats[\"sparsities\"]))) / len(stats[\"sparsities\"]))"
   ],
   "id": "fc1f4c82aec75811",
   "outputs": [
    {
     "name": "stdout",
     "output_type": "stream",
     "text": [
      "50\n",
      "2831\n",
      "0\n",
      "0.02267976984394506\n"
     ]
    }
   ],
   "execution_count": 26
  },
  {
   "metadata": {
    "ExecuteTime": {
     "end_time": "2024-10-30T13:47:25.360832Z",
     "start_time": "2024-10-30T13:47:25.352120Z"
    }
   },
   "cell_type": "code",
   "source": [
    "print(\"num unique table names:\", len(stats[\"tab_names\"].keys()))\n",
    "print(\"num unique column names:\", len(stats[\"col_names\"].keys()))\n",
    "print(\"num unique alt 0 table names:\", len(stats[\"alt_0_tab_names\"].keys()))\n",
    "print(\"num unique alt 0 column names:\", len(stats[\"alt_0_col_names\"].keys()))\n",
    "print(\"num unique alt 1 table names:\", len(stats[\"alt_1_tab_names\"].keys()))\n",
    "print(\"num unique alt 1 column names:\", len(stats[\"alt_1_col_names\"].keys()))"
   ],
   "id": "e4a86e08a695c75d",
   "outputs": [
    {
     "name": "stdout",
     "output_type": "stream",
     "text": [
      "num unique table names: 290297\n",
      "num unique column names: 171738\n",
      "num unique alt 0 table names: 261710\n",
      "num unique alt 0 column names: 106471\n",
      "num unique alt 1 table names: 100152\n",
      "num unique alt 1 column names: 6257\n"
     ]
    }
   ],
   "execution_count": 27
  },
  {
   "metadata": {
    "ExecuteTime": {
     "end_time": "2024-10-30T13:48:12.780608Z",
     "start_time": "2024-10-30T13:48:09.616639Z"
    }
   },
   "cell_type": "code",
   "source": [
    "plt.style.use(\"seaborn-v0_8-whitegrid\")\n",
    "plt.rcParams[\"figure.figsize\"] = (9, 2)\n",
    "plt.rcParams[\"font.size\"] = 11\n",
    "plt.rcParams[\"hatch.linewidth\"] = 0.45\n",
    "figure, (tabs, cols, rows) = plt.subplots(nrows=1, ncols=3, sharex=False, sharey=False)\n",
    "figure.subplots_adjust(left=None, bottom=None, right=None, top=None, wspace=0.35, hspace=0.7)\n",
    "\n",
    "MAX_TAB_COUNT = 10\n",
    "tab_count = collections.Counter(stats[\"num_tables\"])\n",
    "tab_list = list(map(lambda x: (str(x[0]), x[1]), filter(lambda x: x[0] <= MAX_TAB_COUNT, sorted(tab_count.items())))) + [(f\">{MAX_TAB_COUNT}\", sum(map(lambda x: x[1], filter(lambda x: x[0] > MAX_TAB_COUNT, tab_count.items()))))]\n",
    "\n",
    "x_lab, y = zip(*tab_list)\n",
    "x = list(range(len(x_lab)))\n",
    "tabs.bar(x, y, color=\"#e74c3c\")\n",
    "tabs.set_xlabel(\"tables per database\")\n",
    "tabs.set_xticks(x, labels=x_lab, fontsize=10)\n",
    "tabs.set_ylabel(\"# databases\")\n",
    "tabs.set_yticks((0, 15000, 30000, 45000), labels=(\"0\", \"15k\", \"30k\", \"45k\"))\n",
    "tabs.set_ylim((0, 45000))\n",
    "tabs.xaxis.grid(False)\n",
    "\n",
    "cols.hist(stats[\"num_cols\"], bins=list(range(0, 101, 10)), color=\"#e74c3c\")\n",
    "cols.set_xlabel(\"columns per table\")\n",
    "cols.set_xticks((0, 25, 50, 75, 100), labels=(\"0\", \"25\", \"50\", \"75\", \"100\"))\n",
    "cols.set_xlim((0, 100))\n",
    "cols.set_ylabel(\"# tables\")\n",
    "cols.set_yticks((0, 200000, 400000, 600000), labels=(\"0\", \"200k\", \"400k\", \"600k\"))\n",
    "cols.set_ylim((0, 600000))\n",
    "\n",
    "rows.hist(stats[\"num_rows\"], bins=list(range(0, 201, 20)), color=\"#e74c3c\")\n",
    "rows.set_xlabel(\"rows per table\")\n",
    "rows.set_xticks((0, 50, 100, 150, 200), labels=(\"0\", \"50\", \"100\", \"150\", \"200\"))\n",
    "rows.set_xlim((0, 200))\n",
    "rows.set_ylabel(\"# tables\")\n",
    "rows.set_yticks((0, 150000, 300000, 450000), labels=(\"0\", \"150k\", \"300k\", \"450k\"))\n",
    "rows.set_ylim((0, 450000))\n",
    "\n",
    "figure.tight_layout(h_pad=2.5)\n",
    "plt.savefig(\"../data/dimensions.pdf\", bbox_inches=\"tight\")\n",
    "plt.show()\n",
    "plt.clf()"
   ],
   "id": "fcefaa01983b12c1",
   "outputs": [
    {
     "data": {
      "text/plain": [
       "<Figure size 900x200 with 3 Axes>"
      ],
      "image/png": "[encoded data removed]"
     },
     "metadata": {},
     "output_type": "display_data"
    },
    {
     "data": {
      "text/plain": [
       "<Figure size 900x200 with 0 Axes>"
      ]
     },
     "metadata": {},
     "output_type": "display_data"
    }
   ],
   "execution_count": 30
  },
  {
   "metadata": {
    "ExecuteTime": {
     "end_time": "2024-10-30T13:50:02.437803Z",
     "start_time": "2024-10-30T13:50:00.750477Z"
    }
   },
   "cell_type": "code",
   "source": [
    "plt.style.use(\"seaborn-v0_8-whitegrid\")\n",
    "plt.rcParams[\"figure.figsize\"] = (9, 2)\n",
    "plt.rcParams[\"font.size\"] = 11\n",
    "plt.rcParams[\"hatch.linewidth\"] = 0.45\n",
    "figure, (sparsity, dtypes, cnames) = plt.subplots(nrows=1, ncols=3, sharex=False, sharey=False)\n",
    "figure.subplots_adjust(left=None, bottom=None, right=None, top=None, wspace=0.35, hspace=0.7)\n",
    "\n",
    "sparsity.hist(stats[\"sparsities\"], bins=list(x / 20 for x in range(0, 11, 1)), color=\"#e74c3c\")\n",
    "sparsity.set_xlabel(\"fraction of empty cells\")\n",
    "sparsity.set_xticks((0, 0.125, 0.25, 0.375, 0.5), labels=(\"0\", \"\", \"0.25\", \"\", \"0.5\"))\n",
    "sparsity.set_xlim((0, 0.5))\n",
    "sparsity.set_ylabel(\"# tables\")\n",
    "sparsity.set_yticks((0, 150000, 300000, 450000), labels=(\"0\", \"150k\", \"300k\", \"450k\"))\n",
    "sparsity.set_ylim((0, 450000))\n",
    "\n",
    "dtypes.bar([0, 1], [sum(stats[\"num_non_numerical\"]), sum(stats[\"num_numerical\"])], color=[\"#1abc9c\", \"#3498db\"], hatch=[\"//\", \"\\\\\\\\\"])\n",
    "dtypes.set_xticks([0, 1], labels=(\"non-numerical\", \"numerical\"))\n",
    "dtypes.set_ylabel(\"# columns\")\n",
    "dtypes.set_yticks((0, 25000000, 50000000, 75000000), labels=(\"0\", \"25M\", \"50M\", \"75M\"))\n",
    "dtypes.set_ylim((0, 75000000))\n",
    "dtypes.xaxis.grid(False)\n",
    "\n",
    "cnames.bar([0, 3], [len(stats[\"alt_1_tab_names\"].keys()), len(stats[\"alt_1_col_names\"].keys())], color=\"#9b59b6\", label=\"Wikidata\", hatch=\"//\")\n",
    "cnames.bar([1, 4], [len(stats[\"tab_names\"].keys()), len(stats[\"col_names\"].keys())], color=\"#f39c12\", label=\"Paraphrased\", hatch=\"\\\\\\\\\")\n",
    "cnames.set_xticks([0.5, 3.5], labels=(\"table names\", \"column names\"))\n",
    "cnames.set_ylabel(\"# unique names\")\n",
    "cnames.set_yticks((0, 100000, 200000, 300000), labels=(\"0\", \"100k\", \"200k\", \"300k\"))\n",
    "cnames.set_ylim((0, 300000))\n",
    "cnames.xaxis.grid(False)\n",
    "cnames.legend(loc=\"upper right\", borderpad=-0.1, prop={\"size\": 9})\n",
    "\n",
    "figure.tight_layout(h_pad=2.5)\n",
    "plt.savefig(\"../data/characteristics.pdf\", bbox_inches=\"tight\")\n",
    "plt.show()\n",
    "plt.clf()"
   ],
   "id": "238c72c719cd8402",
   "outputs": [
    {
     "data": {
      "text/plain": [
       "<Figure size 900x200 with 3 Axes>"
      ],
      "image/png": "[encoded data removed]"
     },
     "metadata": {},
     "output_type": "display_data"
    },
    {
     "data": {
      "text/plain": [
       "<Figure size 900x200 with 0 Axes>"
      ]
     },
     "metadata": {},
     "output_type": "display_data"
    }
   ],
   "execution_count": 32
  },
  {
   "metadata": {
    "ExecuteTime": {
     "end_time": "2024-10-30T13:47:30.363768Z",
     "start_time": "2024-10-30T13:47:30.362290Z"
    }
   },
   "cell_type": "code",
   "source": "",
   "id": "ff1fd955e473fab9",
   "outputs": [],
   "execution_count": null
  }
 ],
 "metadata": {
  "kernelspec": {
   "display_name": "Python 3",
   "language": "python",
   "name": "python3"
  },
  "language_info": {
   "codemirror_mode": {
    "name": "ipython",
    "version": 2
   },
   "file_extension": ".py",
   "mimetype": "text/x-python",
   "name": "python",
   "nbconvert_exporter": "python",
   "pygments_lexer": "ipython2",
   "version": "2.7.6"
  }
 },
 "nbformat": 4,
 "nbformat_minor": 5
}
