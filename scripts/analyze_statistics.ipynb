{
 "cells": [
  {
   "cell_type": "code",
   "execution_count": null,
   "id": "initial_id",
   "metadata": {
    "ExecuteTime": {
     "end_time": "2024-06-05T15:27:47.348464Z",
     "start_time": "2024-06-05T15:27:47.345058Z"
    },
    "collapsed": true
   },
   "outputs": [],
   "source": [
    "import json\n",
    "import math\n",
    "import pathlib\n",
    "import collections\n",
    "\n",
    "import pandas as pd\n",
    "from matplotlib import pyplot as plt\n",
    "\n",
    "from wikidbs.colors import COLOR_9A\n",
    "\n",
    "pd.set_option(\"display.float_format\", lambda x: \"%.3f\" % x)"
   ]
  },
  {
   "cell_type": "code",
   "execution_count": null,
   "id": "2dd7b19a1f117239",
   "metadata": {
    "ExecuteTime": {
     "end_time": "2024-06-05T15:27:47.513264Z",
     "start_time": "2024-06-05T15:27:47.357529Z"
    }
   },
   "outputs": [],
   "source": [
    "path = pathlib.Path(\"../data/stats.json\")\n",
    "with open(path, \"r\", encoding=\"utf-8\") as file:\n",
    "    stats = json.load(file)"
   ]
  },
  {
   "cell_type": "code",
   "execution_count": null,
   "id": "9d5596276a94c6e2",
   "metadata": {
    "ExecuteTime": {
     "end_time": "2024-06-05T15:27:47.709662Z",
     "start_time": "2024-06-05T15:27:47.518767Z"
    }
   },
   "outputs": [],
   "source": [
    "print(\"num databases:\", len(stats[\"num_tables\"]))\n",
    "ss = []\n",
    "for key in (\"num_tables\", \"num_cols\", \"num_rows\", \"sparsities\", \"num_numerical\", \"num_non_numerical\"):\n",
    "    s = pd.Series(stats[key], name=key).describe()\n",
    "    s[\"sum\"] = sum(stats[key])\n",
    "    del s[\"count\"]\n",
    "    ss.append(s)\n",
    "pd.concat(ss, axis=1)"
   ]
  },
  {
   "cell_type": "code",
   "execution_count": null,
   "id": "fc1f4c82aec75811",
   "metadata": {
    "ExecuteTime": {
     "end_time": "2024-06-05T15:27:47.765502Z",
     "start_time": "2024-06-05T15:27:47.710901Z"
    }
   },
   "outputs": [],
   "source": [
    "print(list(sorted(stats[\"sparsities\"], reverse=True))[:10])\n",
    "print(len(list(filter(lambda x: x > 0.6, stats[\"sparsities\"]))))"
   ]
  },
  {
   "cell_type": "code",
   "execution_count": null,
   "id": "e4a86e08a695c75d",
   "metadata": {
    "ExecuteTime": {
     "end_time": "2024-06-05T15:27:47.769695Z",
     "start_time": "2024-06-05T15:27:47.767253Z"
    }
   },
   "outputs": [],
   "source": [
    "print(\"num unique table names:\", len(stats[\"tab_names\"].keys()))\n",
    "print(\"num unique column names:\", len(stats[\"col_names\"].keys()))\n",
    "print(\"num unique llm table names:\", len(stats[\"llm_tab_names\"].keys()))\n",
    "print(\"num unique llm column names:\", len(stats[\"llm_col_names\"].keys()))"
   ]
  },
  {
   "cell_type": "code",
   "execution_count": null,
   "id": "f6867b47ce795e48",
   "metadata": {
    "ExecuteTime": {
     "end_time": "2024-06-05T15:27:47.778280Z",
     "start_time": "2024-06-05T15:27:47.770731Z"
    }
   },
   "outputs": [],
   "source": [
    "print(\"num total table names:\", sum(stats[\"tab_names\"].values()))\n",
    "print(\"num total column names:\", sum(stats[\"col_names\"].values()))\n",
    "print(\"num total llm table names:\", sum(stats[\"llm_tab_names\"].values()))\n",
    "print(\"num total llm column names:\", sum(stats[\"llm_col_names\"].values()))"
   ]
  },
  {
   "cell_type": "code",
   "execution_count": null,
   "id": "2a25f2d5d6e679fb",
   "metadata": {
    "ExecuteTime": {
     "end_time": "2024-06-05T15:27:48.608601Z",
     "start_time": "2024-06-05T15:27:47.780096Z"
    }
   },
   "outputs": [],
   "source": [
    "plt.style.use(\"seaborn-v0_8-whitegrid\")\n",
    "plt.rcParams[\"figure.figsize\"] = (11, 1.5)\n",
    "plt.rcParams[\"font.size\"] = 14\n",
    "figure, (tabs, cols, rows) = plt.subplots(nrows=1, ncols=3, sharex=False, sharey=False)\n",
    "figure.subplots_adjust(left=None, bottom=None, right=None, top=None, wspace=0.55, hspace=0.7)\n",
    "\n",
    "tabs.hist(stats[\"num_tables\"], bins=list(range(0, 11, 1)), color=\"#e74c3c\")\n",
    "tabs.set_xlabel(\"# tables\")\n",
    "tabs.set_xticks((0, 2.5, 5, 7.5, 10), labels=(\"0\", \"\", \"5\", \"\", \"10\"))\n",
    "tabs.set_xlim((0, 10))\n",
    "tabs.set_ylabel(\"# databases\")\n",
    "tabs.set_yticks((0, 5000, 10000), labels=(\"0\", \"\", \"10k\"))\n",
    "tabs.set_ylim((0, 10000))\n",
    "\n",
    "cols.hist(stats[\"num_cols\"], bins=list(range(0, 101, 10)), color=\"#e74c3c\")\n",
    "cols.set_xlabel(\"# columns\")\n",
    "cols.set_xticks((0, 25, 50, 75, 100), labels=(\"0\", \"\", \"50\", \"\", \"100\"))\n",
    "cols.set_xlim((0, 100))\n",
    "cols.set_ylabel(\"# tables\")\n",
    "cols.set_yticks((0, 40000, 80000, 120000), labels=(\"0\", \"\", \"\", \"120k\"))\n",
    "cols.set_ylim((0, 120000))\n",
    "\n",
    "rows.hist(stats[\"num_rows\"], bins=list(range(0, 251, 25)), color=\"#e74c3c\")\n",
    "rows.set_xlabel(\"# rows\")\n",
    "rows.set_xticks((0, 62.5, 125, 187.5, 250), labels=(\"0\", \"\", \"125\", \"\", \"250\"))\n",
    "rows.set_xlim((0, 250))\n",
    "rows.set_ylabel(\"# tables\")\n",
    "rows.set_yticks((0, 40000, 80000, 120000), labels=(\"0\", \"\", \"\", \"120k\"))\n",
    "rows.set_ylim((0, 120000))\n",
    "\n",
    "plt.savefig(\"../data/stats.pdf\", bbox_inches=\"tight\")\n",
    "plt.show()\n",
    "plt.clf()"
   ]
  },
  {
   "cell_type": "code",
   "execution_count": null,
   "id": "61e077c4433f3710",
   "metadata": {
    "ExecuteTime": {
     "end_time": "2024-06-05T15:27:48.612652Z",
     "start_time": "2024-06-05T15:27:48.610700Z"
    }
   },
   "outputs": [],
   "source": []
  },
  {
   "cell_type": "code",
   "execution_count": null,
   "id": "fcefaa01983b12c1",
   "metadata": {
    "ExecuteTime": {
     "end_time": "2024-06-05T15:27:49.335437Z",
     "start_time": "2024-06-05T15:27:48.614075Z"
    }
   },
   "outputs": [],
   "source": [
    "plt.style.use(\"seaborn-v0_8-whitegrid\")\n",
    "plt.rcParams[\"figure.figsize\"] = (12, 1.5)\n",
    "plt.rcParams[\"font.size\"] = 12\n",
    "figure, (tabs, cols, rows) = plt.subplots(nrows=1, ncols=3, sharex=False, sharey=False)\n",
    "figure.subplots_adjust(left=None, bottom=None, right=None, top=None, wspace=0.35, hspace=0.7)\n",
    "\n",
    "MAX_TAB_COUNT = 10\n",
    "tab_count = collections.Counter(stats[\"num_tables\"])\n",
    "tab_list = list(map(lambda x: (str(x[0]), x[1]), filter(lambda x: x[0] <= MAX_TAB_COUNT, sorted(tab_count.items())))) + [(f\">{MAX_TAB_COUNT}\", sum(map(lambda x: x[1], filter(lambda x: x[0] > MAX_TAB_COUNT, tab_count.items()))))]\n",
    "\n",
    "x_lab, y = zip(*tab_list)\n",
    "x = list(range(len(x_lab)))\n",
    "tabs.bar(x, y, color=\"#e74c3c\")\n",
    "tabs.set_xlabel(\"# tables\")\n",
    "tabs.set_xticks(x, labels=x_lab, fontsize=10)\n",
    "tabs.set_ylabel(\"# databases\")\n",
    "tabs.set_yticks((0, 3000, 6000, 9000), labels=(\"0\", \"\", \"\", \"9k\"))\n",
    "tabs.set_ylim((0, 9000))\n",
    "tabs.xaxis.grid(False)\n",
    "\n",
    "cols.hist(stats[\"num_cols\"], bins=list(range(0, 101, 10)), color=\"#e74c3c\")\n",
    "cols.set_xlabel(\"# columns\")\n",
    "cols.set_xticks((2, 25, 50, 75, 100), labels=(\"2\", \"\", \"50\", \"\", \"100\"))\n",
    "cols.set_xlim((2, 100))\n",
    "cols.set_ylabel(\"# tables\")\n",
    "cols.set_yticks((0, 40000, 80000, 120000), labels=(\"0\", \"\", \"\", \"120k\"))\n",
    "cols.set_ylim((0, 120000))\n",
    "\n",
    "rows.hist(stats[\"num_rows\"], bins=list(range(0, 201, 20)), color=\"#e74c3c\")\n",
    "rows.set_xlabel(\"# rows\")\n",
    "rows.set_xticks((1, 50, 100, 150, 200), labels=(\"1\", \"\", \"100\", \"\", \"200\"))\n",
    "rows.set_xlim((1, 200))\n",
    "rows.set_ylabel(\"# tables\")\n",
    "rows.set_yticks((0, 40000, 80000, 120000), labels=(\"0\", \"\", \"\", \"120k\"))\n",
    "rows.set_ylim((0, 120000))\n",
    "\n",
    "plt.savefig(\"../data/dimensions.pdf\", bbox_inches=\"tight\")\n",
    "plt.show()\n",
    "plt.clf()"
   ]
  },
  {
   "cell_type": "code",
   "execution_count": null,
   "id": "174c217e8807dc36",
   "metadata": {
    "ExecuteTime": {
     "end_time": "2024-06-05T15:27:49.339007Z",
     "start_time": "2024-06-05T15:27:49.336305Z"
    }
   },
   "outputs": [],
   "source": [
    "def ticks(max_v):\n",
    "    return [10 ** (math.log10(max_v) / 4 * x) for x in range(5)]\n",
    "\n",
    "\n",
    "def format_v(v):\n",
    "    # if v % 1000000 == 0:\n",
    "    #     return str(int(v / 1000000)) + \"M\"\n",
    "    # if v % 1000 == 0:\n",
    "    #     return str(int(v / 1000)) + \"T\"\n",
    "    if int(v) == v:\n",
    "        return str(v)\n",
    "\n",
    "    return f\"{v:.2f}\"\n",
    "\n",
    "\n",
    "def tick_labels(max_v):\n",
    "    return [format_v(int(10 ** (math.log10(max_v) / 4 * x))) if x % 2 == 0 else \"\" for x in range(5)]"
   ]
  },
  {
   "cell_type": "code",
   "execution_count": null,
   "id": "cf0d3a0d891e0e72",
   "metadata": {
    "ExecuteTime": {
     "end_time": "2024-06-05T15:27:49.844137Z",
     "start_time": "2024-06-05T15:27:49.341495Z"
    }
   },
   "outputs": [],
   "source": [
    "plt.style.use(\"seaborn-v0_8-whitegrid\")\n",
    "plt.rcParams[\"figure.figsize\"] = (10, 1.5)\n",
    "plt.rcParams[\"font.size\"] = 14\n",
    "figure, (tabs, cols, rows) = plt.subplots(nrows=1, ncols=3, sharex=False, sharey=False)\n",
    "figure.subplots_adjust(left=None, bottom=None, right=None, top=None, wspace=0.4, hspace=0.7)\n",
    "\n",
    "TABS_MAX_X = 100\n",
    "\n",
    "num_tables_x = []\n",
    "num_tables_y = []\n",
    "curr_val = 0\n",
    "for num, val in enumerate(sorted(stats[\"num_tables\"])):\n",
    "    while val >= curr_val:\n",
    "        num_tables_x.append(curr_val)\n",
    "        num_tables_y.append(num / len(stats[\"num_tables\"]))\n",
    "        curr_val += 1\n",
    "\n",
    "while curr_val < TABS_MAX_X:\n",
    "    num_tables_x.append(curr_val)\n",
    "    num_tables_y.append(1)\n",
    "    curr_val += 1\n",
    "\n",
    "tabs.plot(num_tables_x, num_tables_y, color=\"#e74c3c\")\n",
    "tabs.set_xlabel(\"tables per DB [log]\")\n",
    "tabs.set_xscale(\"log\")\n",
    "tabs.set_xticks(ticks(TABS_MAX_X), labels=tick_labels(TABS_MAX_X))\n",
    "tabs.set_xlim((1, TABS_MAX_X))\n",
    "tabs.set_ylim((0, 1))\n",
    "tabs.set_yticks((0, 0.25, 0.5, 0.75, 1), labels=(\"0\", \"\", \"0.5\", \"\", \"1\"))\n",
    "\n",
    "COLS_MAX_X = 1000\n",
    "\n",
    "num_cols_x = []\n",
    "num_cols_y = []\n",
    "curr_val = 0\n",
    "for num, val in enumerate(sorted(stats[\"num_cols\"])):\n",
    "    while val >= curr_val:\n",
    "        num_cols_x.append(curr_val)\n",
    "        num_cols_y.append(num / len(stats[\"num_cols\"]))\n",
    "        curr_val += 1\n",
    "num_cols_x.append(curr_val)\n",
    "num_cols_y.append(1)\n",
    "\n",
    "while curr_val < COLS_MAX_X:\n",
    "    num_cols_x.append(curr_val)\n",
    "    num_cols_y.append(1)\n",
    "    curr_val += 1\n",
    "\n",
    "cols.plot(num_cols_x, num_cols_y, color=\"#e74c3c\")\n",
    "cols.set_xlabel(\"columns per table [log]\")\n",
    "cols.set_xscale(\"log\")\n",
    "cols.set_xticks(ticks(COLS_MAX_X), labels=tick_labels(COLS_MAX_X))\n",
    "cols.set_xlim((1, COLS_MAX_X))\n",
    "cols.set_ylim((0, 1))\n",
    "cols.set_yticks((0, 0.25, 0.5, 0.75, 1), labels=(\"0\", \"\", \"0.5\", \"\", \"1\"))\n",
    "\n",
    "ROWS_MAX_X = 1000\n",
    "\n",
    "num_rows_x = []\n",
    "num_rows_y = []\n",
    "curr_val = 0\n",
    "for num, val in enumerate(sorted(stats[\"num_rows\"])):\n",
    "    while val >= curr_val:\n",
    "        num_rows_x.append(curr_val)\n",
    "        num_rows_y.append(num / len(stats[\"num_rows\"]))\n",
    "        curr_val += 1\n",
    "num_rows_x.append(curr_val)\n",
    "num_rows_y.append(1)\n",
    "\n",
    "while curr_val < ROWS_MAX_X:\n",
    "    num_rows_x.append(curr_val)\n",
    "    num_rows_y.append(1)\n",
    "    curr_val += 1\n",
    "\n",
    "rows.plot(num_rows_x, num_rows_y, color=\"#e74c3c\")\n",
    "rows.set_xlabel(\"rows per table [log]\")\n",
    "rows.set_xscale(\"log\")\n",
    "rows.set_xticks(ticks(ROWS_MAX_X), labels=tick_labels(ROWS_MAX_X))\n",
    "rows.set_xlim((1, ROWS_MAX_X))\n",
    "rows.set_ylim((0, 1))\n",
    "rows.set_yticks((0, 0.25, 0.5, 0.75, 1), labels=(\"0\", \"\", \"0.5\", \"\", \"1\"))\n",
    "# \n",
    "# rows.hist(stats[\"num_rows\"], bins=list(10 ** (x / 2) for x in range(13)), color=\"black\")\n",
    "# rows.set_xlabel(\"number of rows\")\n",
    "# rows.set_xscale(\"log\")\n",
    "# rows.set_xticks((1, 31.622776601683793, 1000, 31622.776601683792, 1000000), labels=(\"1\", \"\", \"1T\", \"\", \"1M\"))\n",
    "# rows.set_xlim((1, 1000000))\n",
    "# rows.set_yscale(\"log\")\n",
    "# rows.set_yticks((1,  31.622776601683793, 1000, 31622.776601683792, 1000000), labels=(\"1\", \"\", \"1T\", \"\", \"1M\"))\n",
    "\n",
    "#plt.savefig(\"../data/stats.pdf\", bbox_inches=\"tight\")\n",
    "plt.show()\n",
    "plt.clf()"
   ]
  },
  {
   "cell_type": "code",
   "execution_count": null,
   "id": "238c72c719cd8402",
   "metadata": {
    "ExecuteTime": {
     "end_time": "2024-06-05T15:28:55.071866Z",
     "start_time": "2024-06-05T15:28:54.648201Z"
    }
   },
   "outputs": [],
   "source": [
    "plt.style.use(\"seaborn-v0_8-whitegrid\")\n",
    "plt.rcParams[\"figure.figsize\"] = (12, 1.5)\n",
    "plt.rcParams[\"font.size\"] = 12\n",
    "figure, (sparsity, dtypes, cnames) = plt.subplots(nrows=1, ncols=3, sharex=False, sharey=False)\n",
    "figure.subplots_adjust(left=None, bottom=None, right=None, top=None, wspace=0.35, hspace=0.7)\n",
    "\n",
    "sparsity.hist(stats[\"sparsities\"], bins=list(x / 20 for x in range(0, 11, 1)), color=\"#e74c3c\")\n",
    "sparsity.set_xlabel(\"fraction of empty cells\")\n",
    "sparsity.set_xticks((0, 0.125, 0.25, 0.375, 0.5), labels=(\"0\", \"\", \"0.25\", \"\", \"0.5\"))\n",
    "sparsity.set_xlim((0, 0.5))\n",
    "sparsity.set_ylabel(\"# tables\")\n",
    "sparsity.set_yticks((0, 30000, 60000, 90000), labels=(\"0\", \"\", \"\", \"90k\"))\n",
    "sparsity.set_ylim((0, 90000))\n",
    "\n",
    "dtypes.bar([0, 1], [sum(stats[\"num_non_numerical\"]), sum(stats[\"num_numerical\"])], color=[\"#1abc9c\", \"#3498db\"])\n",
    "dtypes.set_xticks([0, 1], labels=(\"non-numerical\", \"numerical\"))\n",
    "dtypes.set_ylabel(\"# columns\")\n",
    "dtypes.set_yticks((0, 5000000, 10000000, 15000000), labels=(\"0\", \"\", \"\", \"15m\"))\n",
    "dtypes.set_ylim((0, 15000000))\n",
    "dtypes.xaxis.grid(False)\n",
    "\n",
    "cnames.bar([0, 3], [len(stats[\"tab_names\"].keys()), len(stats[\"col_names\"].keys())], color=\"#9b59b6\", label=\"Wikidata\")\n",
    "cnames.bar([1, 4], [len(stats[\"llm_tab_names\"].keys()), len(stats[\"llm_col_names\"].keys())], color=\"#f39c12\", label=\"Paraphrased\")\n",
    "cnames.set_xticks([0.5, 3.5], labels=(\"table names\", \"column names\"))\n",
    "cnames.set_ylabel(\"# unique names\")\n",
    "cnames.set_yticks((0, 30000, 60000, 90000), labels=(\"0\", \"\", \"\", \"90k\"))\n",
    "cnames.set_ylim((0, 90000))\n",
    "cnames.xaxis.grid(False)\n",
    "cnames.legend()\n",
    "\n",
    "plt.savefig(\"../data/characteristics.pdf\", bbox_inches=\"tight\")\n",
    "# .show()\n",
    "plt.clf()"
   ]
  },
  {
   "cell_type": "code",
   "execution_count": null,
   "id": "8ecbc261c1cb591a",
   "metadata": {
    "ExecuteTime": {
     "end_time": "2024-06-05T15:27:50.269746Z",
     "start_time": "2024-06-05T15:27:50.268339Z"
    }
   },
   "outputs": [],
   "source": []
  }
 ],
 "metadata": {
  "kernelspec": {
   "display_name": "Python 3",
   "language": "python",
   "name": "python3"
  },
  "language_info": {
   "codemirror_mode": {
    "name": "ipython",
    "version": 2
   },
   "file_extension": ".py",
   "mimetype": "text/x-python",
   "name": "python",
   "nbconvert_exporter": "python",
   "pygments_lexer": "ipython2",
   "version": "2.7.6"
  }
 },
 "nbformat": 4,
 "nbformat_minor": 5
}
